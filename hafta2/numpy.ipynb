{
 "cells": [
  {
   "cell_type": "code",
   "execution_count": 94,
   "id": "619595d0",
   "metadata": {},
   "outputs": [],
   "source": [
    "import numpy as np\n",
    "import matplotlib.pyplot as plt \n",
    "from mpl_toolkits.mplot3d import Axes3D"
   ]
  },
  {
   "cell_type": "code",
   "execution_count": 95,
   "id": "51ca73fa",
   "metadata": {},
   "outputs": [
    {
     "name": "stdout",
     "output_type": "stream",
     "text": [
      "[10 20 30]\n"
     ]
    }
   ],
   "source": [
    "array = np.array([10,20,30]) \n",
    "print(array)"
   ]
  },
  {
   "cell_type": "code",
   "execution_count": 96,
   "id": "28b57c35",
   "metadata": {},
   "outputs": [
    {
     "name": "stdout",
     "output_type": "stream",
     "text": [
      "(15,)\n"
     ]
    }
   ],
   "source": [
    "array1= np.array([10,20,30,40,50,60,70,80,90,100,110,120,130,140,150])\n",
    "\n",
    "print(array1.shape)"
   ]
  },
  {
   "cell_type": "code",
   "execution_count": 97,
   "id": "aef01591",
   "metadata": {},
   "outputs": [
    {
     "name": "stdout",
     "output_type": "stream",
     "text": [
      "[[ 10  20  30  40  50]\n",
      " [ 60  70  80  90 100]\n",
      " [110 120 130 140 150]]\n"
     ]
    }
   ],
   "source": [
    "arrayreshape = array1.reshape(3,5) \n",
    "print(arrayreshape)"
   ]
  },
  {
   "cell_type": "code",
   "execution_count": 98,
   "id": "7bd738f1",
   "metadata": {},
   "outputs": [
    {
     "name": "stdout",
     "output_type": "stream",
     "text": [
      "shape:  (3, 5)\n",
      "dimension:  2\n",
      "data type:  int32\n",
      "size:  15\n",
      "type <class 'numpy.ndarray'>\n"
     ]
    }
   ],
   "source": [
    "print(\"shape: \",arrayreshape.shape) \n",
    "\n",
    "print(\"dimension: \",arrayreshape.ndim) \n",
    "\n",
    "print(\"data type: \",arrayreshape.dtype.name) \n",
    "\n",
    "print(\"size: \",arrayreshape.size) \n",
    "                       \n",
    "print(\"type\",type(arrayreshape)) "
   ]
  },
  {
   "cell_type": "code",
   "execution_count": 99,
   "id": "9b8d867f",
   "metadata": {},
   "outputs": [],
   "source": [
    "array2= np.array([[1,2,3,4],[5,6,7,8],[9,10,11,12]]) "
   ]
  },
  {
   "cell_type": "code",
   "execution_count": 100,
   "id": "781a617a",
   "metadata": {},
   "outputs": [
    {
     "name": "stdout",
     "output_type": "stream",
     "text": [
      "[[ 1  2  3  4]\n",
      " [ 5  6  7  8]\n",
      " [ 9 10 11 12]]\n"
     ]
    }
   ],
   "source": [
    "print(array2)"
   ]
  },
  {
   "cell_type": "code",
   "execution_count": 101,
   "id": "e9d8a785",
   "metadata": {},
   "outputs": [
    {
     "name": "stdout",
     "output_type": "stream",
     "text": [
      "(3, 4)\n"
     ]
    }
   ],
   "source": [
    "print(array2.shape)"
   ]
  },
  {
   "cell_type": "code",
   "execution_count": 102,
   "id": "c08248dd",
   "metadata": {},
   "outputs": [],
   "source": [
    "zeros= np.zeros((3,4))"
   ]
  },
  {
   "cell_type": "code",
   "execution_count": 103,
   "id": "ba5fc191",
   "metadata": {},
   "outputs": [
    {
     "name": "stdout",
     "output_type": "stream",
     "text": [
      "[[5. 0. 0. 0.]\n",
      " [0. 0. 0. 0.]\n",
      " [0. 0. 0. 0.]]\n"
     ]
    }
   ],
   "source": [
    "zeros[0,0]=5\n",
    "print(zeros)"
   ]
  },
  {
   "cell_type": "code",
   "execution_count": 104,
   "id": "3c8ab283",
   "metadata": {},
   "outputs": [
    {
     "data": {
      "text/plain": [
       "array([[1., 1., 1., 1.],\n",
       "       [1., 1., 1., 1.],\n",
       "       [1., 1., 1., 1.]])"
      ]
     },
     "execution_count": 104,
     "metadata": {},
     "output_type": "execute_result"
    }
   ],
   "source": [
    "np.ones((3,4))"
   ]
  },
  {
   "cell_type": "code",
   "execution_count": 105,
   "id": "0ef8001e",
   "metadata": {},
   "outputs": [
    {
     "data": {
      "text/plain": [
       "array([[102.54545455, 244.73145057, 152.64646465, 148.87040425,\n",
       "        202.74747475],\n",
       "       [405.6       , 252.84848485,  70.63205739, 302.94949495,\n",
       "        376.02658923],\n",
       "       [353.05050505, 198.49881823, 403.15151515, 191.02128293,\n",
       "        453.25252525],\n",
       "       [381.09742789, 503.35353535,  69.6       , 553.45454545,\n",
       "        402.26110128]])"
      ]
     },
     "execution_count": 105,
     "metadata": {},
     "output_type": "execute_result"
    }
   ],
   "source": [
    "np.empty((4,5))"
   ]
  },
  {
   "cell_type": "code",
   "execution_count": 106,
   "id": "d879efe4",
   "metadata": {},
   "outputs": [
    {
     "data": {
      "text/plain": [
       "array([10, 20, 30, 40])"
      ]
     },
     "execution_count": 106,
     "metadata": {},
     "output_type": "execute_result"
    }
   ],
   "source": [
    "np.arange(10,50,10)"
   ]
  },
  {
   "cell_type": "code",
   "execution_count": 107,
   "id": "87fa8067",
   "metadata": {},
   "outputs": [],
   "source": [
    "x= np.linspace(0,10,40)"
   ]
  },
  {
   "cell_type": "code",
   "execution_count": 108,
   "id": "ac1fe899",
   "metadata": {},
   "outputs": [
    {
     "name": "stdout",
     "output_type": "stream",
     "text": [
      "[ 0.          0.25641026  0.51282051  0.76923077  1.02564103  1.28205128\n",
      "  1.53846154  1.79487179  2.05128205  2.30769231  2.56410256  2.82051282\n",
      "  3.07692308  3.33333333  3.58974359  3.84615385  4.1025641   4.35897436\n",
      "  4.61538462  4.87179487  5.12820513  5.38461538  5.64102564  5.8974359\n",
      "  6.15384615  6.41025641  6.66666667  6.92307692  7.17948718  7.43589744\n",
      "  7.69230769  7.94871795  8.20512821  8.46153846  8.71794872  8.97435897\n",
      "  9.23076923  9.48717949  9.74358974 10.        ]\n"
     ]
    }
   ],
   "source": [
    "print(x)"
   ]
  },
  {
   "cell_type": "code",
   "execution_count": 109,
   "id": "e7bde053",
   "metadata": {},
   "outputs": [
    {
     "name": "stdout",
     "output_type": "stream",
     "text": [
      "[50 70 90]\n",
      "[-30 -30 -30]\n",
      "[100 400 900]\n"
     ]
    }
   ],
   "source": [
    "x= np.array([10,20,30])\n",
    "y= np.array([40,50,60]) \n",
    "\n",
    "print(x+y) \n",
    "print(x-y) \n",
    "print(x**2) "
   ]
  },
  {
   "cell_type": "code",
   "execution_count": 110,
   "id": "729ceb3f",
   "metadata": {},
   "outputs": [],
   "source": [
    "x= np.array([100,200,300,400,500,600,700])"
   ]
  },
  {
   "cell_type": "code",
   "execution_count": 111,
   "id": "3c887499",
   "metadata": {},
   "outputs": [
    {
     "name": "stdout",
     "output_type": "stream",
     "text": [
      "[10, 20, 30, 40]\n",
      "[50 60 70 80]\n"
     ]
    }
   ],
   "source": [
    "liste = [10,20,30,40]\n",
    "\n",
    "array = np.array([50,60,70,80])\n",
    "print(liste)\n",
    "print(array)"
   ]
  },
  {
   "cell_type": "code",
   "execution_count": 112,
   "id": "4dbcce8b",
   "metadata": {},
   "outputs": [
    {
     "name": "stdout",
     "output_type": "stream",
     "text": [
      "[10 20 30 40]\n"
     ]
    }
   ],
   "source": [
    "array = np.array(liste)\n",
    "print(array)"
   ]
  },
  {
   "cell_type": "code",
   "execution_count": 113,
   "id": "6b33cf84",
   "metadata": {},
   "outputs": [
    {
     "name": "stdout",
     "output_type": "stream",
     "text": [
      "[1 2 3]\n"
     ]
    }
   ],
   "source": [
    "a = np.array([1,2,3])\n",
    "print(a)"
   ]
  },
  {
   "cell_type": "code",
   "execution_count": 114,
   "id": "ee7ef27c",
   "metadata": {},
   "outputs": [
    {
     "name": "stdout",
     "output_type": "stream",
     "text": [
      "[  5 200 300 400 500 600 700] [  5 200 300 400 500 600 700] [  5 200 300 400 500 600 700]\n"
     ]
    }
   ],
   "source": [
    "y=x\n",
    "\n",
    "z=x\n",
    "\n",
    "y[0]=5 \n",
    "print(x,y,z)"
   ]
  },
  {
   "cell_type": "code",
   "execution_count": 115,
   "id": "1c80f240",
   "metadata": {},
   "outputs": [],
   "source": [
    "d = a.copy()"
   ]
  },
  {
   "cell_type": "code",
   "execution_count": 116,
   "id": "a47b7b8b",
   "metadata": {},
   "outputs": [
    {
     "name": "stdout",
     "output_type": "stream",
     "text": [
      "[1000 2000 3000 4000 5000 6000 7000]\n"
     ]
    }
   ],
   "source": [
    "a= np.array([1000,2000,3000,4000,5000,6000,7000]) \n",
    "print(a)"
   ]
  },
  {
   "cell_type": "code",
   "execution_count": 117,
   "id": "b3bf1108",
   "metadata": {},
   "outputs": [
    {
     "name": "stdout",
     "output_type": "stream",
     "text": [
      "4000\n"
     ]
    }
   ],
   "source": [
    "print(a[3])"
   ]
  },
  {
   "cell_type": "code",
   "execution_count": 118,
   "id": "50fd3690",
   "metadata": {},
   "outputs": [
    {
     "name": "stdout",
     "output_type": "stream",
     "text": [
      "[3000 4000 5000]\n"
     ]
    }
   ],
   "source": [
    "print(a[2:5])"
   ]
  },
  {
   "cell_type": "code",
   "execution_count": 119,
   "id": "2da41d01",
   "metadata": {},
   "outputs": [
    {
     "name": "stdout",
     "output_type": "stream",
     "text": [
      "[7000 6000 5000 4000 3000 2000 1000]\n"
     ]
    }
   ],
   "source": [
    "reverse_array = a[::-1] \n",
    "print(reverse_array)"
   ]
  },
  {
   "cell_type": "code",
   "execution_count": 120,
   "id": "44847f20",
   "metadata": {},
   "outputs": [
    {
     "name": "stdout",
     "output_type": "stream",
     "text": [
      "[[ 1  2  3  4  5]\n",
      " [ 6  7  8  9 10]]\n"
     ]
    }
   ],
   "source": [
    "k = np.array([[1,2,3,4,5],[6,7,8,9,10]]) \n",
    "print(k)"
   ]
  },
  {
   "cell_type": "code",
   "execution_count": 121,
   "id": "ca7cd493",
   "metadata": {},
   "outputs": [
    {
     "name": "stdout",
     "output_type": "stream",
     "text": [
      "7\n",
      "[2 7]\n",
      "[ 6  7  8  9 10]\n",
      "[7 8 9]\n",
      "[ 6  7  8  9 10]\n",
      "[ 5 10]\n"
     ]
    }
   ],
   "source": [
    "print(k[1,1]) \n",
    "\n",
    "print(k[:,1]) \n",
    "\n",
    "print(k[1,:]) \n",
    "\n",
    "print(k[1,1:4]) \n",
    "\n",
    "print(k[-1,:]) \n",
    "\n",
    "print(k[:,-1]) "
   ]
  },
  {
   "cell_type": "code",
   "execution_count": 122,
   "id": "b39c5148",
   "metadata": {},
   "outputs": [
    {
     "name": "stdout",
     "output_type": "stream",
     "text": [
      "[[1 2 3]\n",
      " [4 5 6]\n",
      " [7 8 9]]\n"
     ]
    }
   ],
   "source": [
    "array = np.array([[1,2,3],[4,5,6],[7,8,9]])\n",
    "print(array)"
   ]
  },
  {
   "cell_type": "code",
   "execution_count": 123,
   "id": "f32aec00",
   "metadata": {},
   "outputs": [
    {
     "name": "stdout",
     "output_type": "stream",
     "text": [
      "[1 2 3 4 5 6 7 8 9]\n"
     ]
    }
   ],
   "source": [
    "a = array.ravel() \n",
    "print(a)"
   ]
  },
  {
   "cell_type": "code",
   "execution_count": 124,
   "id": "d0deb5d7",
   "metadata": {},
   "outputs": [
    {
     "name": "stdout",
     "output_type": "stream",
     "text": [
      "[[1 2 3]\n",
      " [4 5 6]\n",
      " [7 8 9]]\n"
     ]
    }
   ],
   "source": [
    "array2 = a.reshape(3,3)\n",
    "print(array2)"
   ]
  },
  {
   "cell_type": "code",
   "execution_count": 125,
   "id": "7241c8e2",
   "metadata": {},
   "outputs": [
    {
     "name": "stdout",
     "output_type": "stream",
     "text": [
      "[[1 4 7]\n",
      " [2 5 8]\n",
      " [3 6 9]]\n"
     ]
    }
   ],
   "source": [
    "array_transpose = array2.T\n",
    "\n",
    "\n",
    "print(array_transpose)"
   ]
  },
  {
   "cell_type": "code",
   "execution_count": 126,
   "id": "abed2177",
   "metadata": {},
   "outputs": [
    {
     "name": "stdout",
     "output_type": "stream",
     "text": [
      "[[10 20]\n",
      " [30 40]\n",
      " [50 60]]\n"
     ]
    }
   ],
   "source": [
    "array5 = np.array([[10,20],[30,40],[50,60]])\n",
    "print(array5)"
   ]
  },
  {
   "cell_type": "code",
   "execution_count": 127,
   "id": "1c098bbf",
   "metadata": {},
   "outputs": [
    {
     "name": "stdout",
     "output_type": "stream",
     "text": [
      "[[10 20 30]\n",
      " [40 50 60]]\n"
     ]
    }
   ],
   "source": [
    "array5.resize((2,3)) \n",
    "print(array5)"
   ]
  }
 ],
 "metadata": {
  "kernelspec": {
   "display_name": "Python 3 (ipykernel)",
   "language": "python",
   "name": "python3"
  },
  "language_info": {
   "codemirror_mode": {
    "name": "ipython",
    "version": 3
   },
   "file_extension": ".py",
   "mimetype": "text/x-python",
   "name": "python",
   "nbconvert_exporter": "python",
   "pygments_lexer": "ipython3",
   "version": "3.9.13"
  }
 },
 "nbformat": 4,
 "nbformat_minor": 5
}
