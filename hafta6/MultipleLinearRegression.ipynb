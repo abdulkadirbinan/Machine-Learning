{
 "cells": [
  {
   "cell_type": "code",
   "execution_count": 1,
   "id": "276e8132",
   "metadata": {},
   "outputs": [],
   "source": [
    "import numpy as np\n",
    "import pandas as pd\n",
    "import matplotlib.pyplot as plt\n",
    "import seaborn as sns"
   ]
  },
  {
   "cell_type": "code",
   "execution_count": 2,
   "id": "c9054c26",
   "metadata": {},
   "outputs": [],
   "source": [
    "data=pd.read_csv(\"C:/Users/abdul/Desktop/advertising.csv\")"
   ]
  },
  {
   "cell_type": "code",
   "execution_count": 4,
   "id": "2d632ad1",
   "metadata": {},
   "outputs": [
    {
     "data": {
      "text/html": [
       "<div>\n",
       "<style scoped>\n",
       "    .dataframe tbody tr th:only-of-type {\n",
       "        vertical-align: middle;\n",
       "    }\n",
       "\n",
       "    .dataframe tbody tr th {\n",
       "        vertical-align: top;\n",
       "    }\n",
       "\n",
       "    .dataframe thead th {\n",
       "        text-align: right;\n",
       "    }\n",
       "</style>\n",
       "<table border=\"1\" class=\"dataframe\">\n",
       "  <thead>\n",
       "    <tr style=\"text-align: right;\">\n",
       "      <th></th>\n",
       "      <th>TV</th>\n",
       "      <th>Radio</th>\n",
       "      <th>Newspaper</th>\n",
       "      <th>Sales</th>\n",
       "    </tr>\n",
       "  </thead>\n",
       "  <tbody>\n",
       "    <tr>\n",
       "      <th>0</th>\n",
       "      <td>230.1</td>\n",
       "      <td>37.8</td>\n",
       "      <td>69.2</td>\n",
       "      <td>22.1</td>\n",
       "    </tr>\n",
       "    <tr>\n",
       "      <th>1</th>\n",
       "      <td>44.5</td>\n",
       "      <td>39.3</td>\n",
       "      <td>45.1</td>\n",
       "      <td>10.4</td>\n",
       "    </tr>\n",
       "    <tr>\n",
       "      <th>2</th>\n",
       "      <td>17.2</td>\n",
       "      <td>45.9</td>\n",
       "      <td>69.3</td>\n",
       "      <td>12.0</td>\n",
       "    </tr>\n",
       "    <tr>\n",
       "      <th>3</th>\n",
       "      <td>151.5</td>\n",
       "      <td>41.3</td>\n",
       "      <td>58.5</td>\n",
       "      <td>16.5</td>\n",
       "    </tr>\n",
       "    <tr>\n",
       "      <th>4</th>\n",
       "      <td>180.8</td>\n",
       "      <td>10.8</td>\n",
       "      <td>58.4</td>\n",
       "      <td>17.9</td>\n",
       "    </tr>\n",
       "    <tr>\n",
       "      <th>5</th>\n",
       "      <td>8.7</td>\n",
       "      <td>48.9</td>\n",
       "      <td>75.0</td>\n",
       "      <td>7.2</td>\n",
       "    </tr>\n",
       "    <tr>\n",
       "      <th>6</th>\n",
       "      <td>57.5</td>\n",
       "      <td>32.8</td>\n",
       "      <td>23.5</td>\n",
       "      <td>11.8</td>\n",
       "    </tr>\n",
       "    <tr>\n",
       "      <th>7</th>\n",
       "      <td>120.2</td>\n",
       "      <td>19.6</td>\n",
       "      <td>11.6</td>\n",
       "      <td>13.2</td>\n",
       "    </tr>\n",
       "    <tr>\n",
       "      <th>8</th>\n",
       "      <td>8.6</td>\n",
       "      <td>2.1</td>\n",
       "      <td>1.0</td>\n",
       "      <td>4.8</td>\n",
       "    </tr>\n",
       "    <tr>\n",
       "      <th>9</th>\n",
       "      <td>199.8</td>\n",
       "      <td>2.6</td>\n",
       "      <td>21.2</td>\n",
       "      <td>15.6</td>\n",
       "    </tr>\n",
       "  </tbody>\n",
       "</table>\n",
       "</div>"
      ],
      "text/plain": [
       "      TV  Radio  Newspaper  Sales\n",
       "0  230.1   37.8       69.2   22.1\n",
       "1   44.5   39.3       45.1   10.4\n",
       "2   17.2   45.9       69.3   12.0\n",
       "3  151.5   41.3       58.5   16.5\n",
       "4  180.8   10.8       58.4   17.9\n",
       "5    8.7   48.9       75.0    7.2\n",
       "6   57.5   32.8       23.5   11.8\n",
       "7  120.2   19.6       11.6   13.2\n",
       "8    8.6    2.1        1.0    4.8\n",
       "9  199.8    2.6       21.2   15.6"
      ]
     },
     "execution_count": 4,
     "metadata": {},
     "output_type": "execute_result"
    }
   ],
   "source": [
    "data.head(10)"
   ]
  },
  {
   "cell_type": "code",
   "execution_count": 5,
   "id": "cf9a8e60",
   "metadata": {},
   "outputs": [],
   "source": [
    "x=data[[\"TV\",\"Radio\",\"Newspaper\"]]\n",
    "y=data[[\"Sales\"]]"
   ]
  },
  {
   "cell_type": "code",
   "execution_count": 6,
   "id": "0e1e477d",
   "metadata": {},
   "outputs": [],
   "source": [
    "from sklearn.model_selection import train_test_split\n",
    "x_train,x_test,y_train,y_test = train_test_split(x,y,test_size=0.3,random_state=100)\n"
   ]
  },
  {
   "cell_type": "code",
   "execution_count": 7,
   "id": "6a4d3260",
   "metadata": {},
   "outputs": [
    {
     "data": {
      "text/plain": [
       "LinearRegression()"
      ]
     },
     "execution_count": 7,
     "metadata": {},
     "output_type": "execute_result"
    }
   ],
   "source": [
    "from sklearn.linear_model import LinearRegression\n",
    "mlr=LinearRegression()\n",
    "mlr.fit(x_train,y_train)"
   ]
  },
  {
   "cell_type": "code",
   "execution_count": 8,
   "id": "fccfd799",
   "metadata": {},
   "outputs": [
    {
     "name": "stdout",
     "output_type": "stream",
     "text": [
      "intercep [4.33459586]\n",
      "coefficients:\n"
     ]
    },
    {
     "data": {
      "text/plain": [
       "[('TV', array([0.05382911, 0.11001224, 0.00628995]))]"
      ]
     },
     "execution_count": 8,
     "metadata": {},
     "output_type": "execute_result"
    }
   ],
   "source": [
    "print(\"intercep\",mlr.intercept_)\n",
    "print(\"coefficients:\")\n",
    "list(zip(x,mlr.coef_))"
   ]
  },
  {
   "cell_type": "code",
   "execution_count": 9,
   "id": "c5015fb2",
   "metadata": {},
   "outputs": [
    {
     "name": "stdout",
     "output_type": "stream",
     "text": [
      "prediction[[ 9.35221067]\n",
      " [20.96344625]\n",
      " [16.48851064]\n",
      " [20.10971005]\n",
      " [21.67148354]\n",
      " [16.16054424]\n",
      " [13.5618056 ]\n",
      " [15.39338129]\n",
      " [20.81980757]\n",
      " [21.00537077]\n",
      " [12.29451311]\n",
      " [20.70848608]\n",
      " [ 8.17367308]\n",
      " [16.82471534]\n",
      " [10.48954832]\n",
      " [ 9.99530649]\n",
      " [16.34698901]\n",
      " [14.5758119 ]\n",
      " [17.23065133]\n",
      " [12.56890735]\n",
      " [18.55715915]\n",
      " [12.12402775]\n",
      " [20.43312609]\n",
      " [17.78017811]\n",
      " [16.73623408]\n",
      " [21.60387629]\n",
      " [20.13532087]\n",
      " [10.82559967]\n",
      " [19.12782848]\n",
      " [14.84537816]\n",
      " [13.13597397]\n",
      " [ 9.07757918]\n",
      " [12.07834143]\n",
      " [16.62824427]\n",
      " [ 8.41792841]\n",
      " [14.0456697 ]\n",
      " [ 9.92050209]\n",
      " [14.26101605]\n",
      " [16.76262961]\n",
      " [17.17185467]\n",
      " [18.88797595]\n",
      " [15.50165469]\n",
      " [15.78688377]\n",
      " [16.86266686]\n",
      " [13.03405813]\n",
      " [10.47673934]\n",
      " [10.6141644 ]\n",
      " [20.85264977]\n",
      " [10.1517568 ]\n",
      " [ 6.88471443]\n",
      " [17.88702583]\n",
      " [18.16013938]\n",
      " [12.55907083]\n",
      " [16.28189561]\n",
      " [18.98024679]\n",
      " [11.33714913]\n",
      " [ 5.91026916]\n",
      " [10.06159509]\n",
      " [17.62383031]\n",
      " [13.19628335]]\n"
     ]
    }
   ],
   "source": [
    "y_pred=mlr.predict(x_test)\n",
    "print(\"prediction{}\".format(y_pred))"
   ]
  },
  {
   "cell_type": "code",
   "execution_count": 10,
   "id": "0f609886",
   "metadata": {},
   "outputs": [
    {
     "name": "stdout",
     "output_type": "stream",
     "text": [
      "r sqr90.11\n",
      "msqrerr: 2.636076562328064\n"
     ]
    }
   ],
   "source": [
    "from sklearn import metrics \n",
    "meansqrer=metrics.mean_squared_error(y_test,y_pred)\n",
    "print(\"r sqr{:.2f}\".format(mlr.score(x,y)*100))\n",
    "print(\"msqrerr:\",meansqrer)"
   ]
  },
  {
   "cell_type": "code",
   "execution_count": null,
   "id": "1b983ca4",
   "metadata": {},
   "outputs": [],
   "source": []
  }
 ],
 "metadata": {
  "kernelspec": {
   "display_name": "Python 3 (ipykernel)",
   "language": "python",
   "name": "python3"
  },
  "language_info": {
   "codemirror_mode": {
    "name": "ipython",
    "version": 3
   },
   "file_extension": ".py",
   "mimetype": "text/x-python",
   "name": "python",
   "nbconvert_exporter": "python",
   "pygments_lexer": "ipython3",
   "version": "3.9.13"
  }
 },
 "nbformat": 4,
 "nbformat_minor": 5
}
